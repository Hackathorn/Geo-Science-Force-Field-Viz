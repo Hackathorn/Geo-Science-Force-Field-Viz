{
 "cells": [
  {
   "cell_type": "markdown",
   "metadata": {},
   "source": [
    "# Dump UVW array to Single File\n",
    "\n",
    "File formats are:\n",
    "\n",
    "* A) Create 2D slices into single compressed file (ext = \".zip\")\n",
    "* B) Simple JSON file with single big list (ext = \".json\")\n",
    "* C) CSV file with i,j,k plus (u,v,w) pixel (ext = \".csv\")  ...but not efficient although semantical rich\n",
    "* D) Text file with first line of meta dict {'shape': (128,128,128,3)} followed by lines of RGB triplets (ext = \".uvw\")\n",
    "* E) HDF5 file \n"
   ]
  },
  {
   "cell_type": "code",
   "execution_count": 18,
   "metadata": {},
   "outputs": [],
   "source": [
    "import numpy as np\n",
    "import xarray as xr\n",
    "import glob\n",
    "import imageio\n",
    "import os\n",
    "from zipfile import ZipFile  # needed for format A\n",
    "\n",
    "### not needed so far\n",
    "#import json, codecs\n",
    "#import pandas as pd\n",
    "#from PIL import Image"
   ]
  },
  {
   "cell_type": "markdown",
   "metadata": {},
   "source": [
    "## Generate Small UVW Example Data if Needed"
   ]
  },
  {
   "cell_type": "code",
   "execution_count": 22,
   "metadata": {},
   "outputs": [
    {
     "name": "stdout",
     "output_type": "stream",
     "text": [
      "WRITTEN: uvw type= <class 'numpy.ndarray'> <class 'numpy.uint8'> shape= (16, 16, 16, 3)  # cells= 12288 sum= 1568256\n"
     ]
    }
   ],
   "source": [
    "#ERROR!!!! COMMENT if simple example is needed. Then skip next sections setting uvw from NetCDF dataset\n",
    "\n",
    "size = 16\n",
    "u = np.random.randint(0,256,(size,size,size))  # minmic pixel RGB colors \n",
    "v = np.random.randint(0,256,(size,size,size)) \n",
    "w = np.random.randint(0,256,(size,size,size)) \n",
    "\n",
    "# combine with np.stack making the new dimension the last\n",
    "uvw = np.stack((u, v, w), axis=-1).astype(np.uint8)\n",
    "\n",
    "print('WRITTEN: uvw type=', type(uvw), type(uvw[0,0,0,0]), 'shape=', uvw.shape, ' # cells=', np.prod(uvw.shape), 'sum=', uvw.sum())"
   ]
  },
  {
   "cell_type": "markdown",
   "metadata": {},
   "source": [
    "## Read the NetCDF Dataset as Xarray object"
   ]
  },
  {
   "cell_type": "code",
   "execution_count": 59,
   "metadata": {},
   "outputs": [
    {
     "data": {
      "text/html": [
       "<div><svg style=\"position: absolute; width: 0; height: 0; overflow: hidden\">\n",
       "<defs>\n",
       "<symbol id=\"icon-database\" viewBox=\"0 0 32 32\">\n",
       "<title>Show/Hide data repr</title>\n",
       "<path d=\"M16 0c-8.837 0-16 2.239-16 5v4c0 2.761 7.163 5 16 5s16-2.239 16-5v-4c0-2.761-7.163-5-16-5z\"></path>\n",
       "<path d=\"M16 17c-8.837 0-16-2.239-16-5v6c0 2.761 7.163 5 16 5s16-2.239 16-5v-6c0 2.761-7.163 5-16 5z\"></path>\n",
       "<path d=\"M16 26c-8.837 0-16-2.239-16-5v6c0 2.761 7.163 5 16 5s16-2.239 16-5v-6c0 2.761-7.163 5-16 5z\"></path>\n",
       "</symbol>\n",
       "<symbol id=\"icon-file-text2\" viewBox=\"0 0 32 32\">\n",
       "<title>Show/Hide attributes</title>\n",
       "<path d=\"M28.681 7.159c-0.694-0.947-1.662-2.053-2.724-3.116s-2.169-2.030-3.116-2.724c-1.612-1.182-2.393-1.319-2.841-1.319h-15.5c-1.378 0-2.5 1.121-2.5 2.5v27c0 1.378 1.122 2.5 2.5 2.5h23c1.378 0 2.5-1.122 2.5-2.5v-19.5c0-0.448-0.137-1.23-1.319-2.841zM24.543 5.457c0.959 0.959 1.712 1.825 2.268 2.543h-4.811v-4.811c0.718 0.556 1.584 1.309 2.543 2.268zM28 29.5c0 0.271-0.229 0.5-0.5 0.5h-23c-0.271 0-0.5-0.229-0.5-0.5v-27c0-0.271 0.229-0.5 0.5-0.5 0 0 15.499-0 15.5 0v7c0 0.552 0.448 1 1 1h7v19.5z\"></path>\n",
       "<path d=\"M23 26h-14c-0.552 0-1-0.448-1-1s0.448-1 1-1h14c0.552 0 1 0.448 1 1s-0.448 1-1 1z\"></path>\n",
       "<path d=\"M23 22h-14c-0.552 0-1-0.448-1-1s0.448-1 1-1h14c0.552 0 1 0.448 1 1s-0.448 1-1 1z\"></path>\n",
       "<path d=\"M23 18h-14c-0.552 0-1-0.448-1-1s0.448-1 1-1h14c0.552 0 1 0.448 1 1s-0.448 1-1 1z\"></path>\n",
       "</symbol>\n",
       "</defs>\n",
       "</svg>\n",
       "<style>/* CSS stylesheet for displaying xarray objects in jupyterlab.\n",
       " *\n",
       " */\n",
       "\n",
       ":root {\n",
       "  --xr-font-color0: var(--jp-content-font-color0, rgba(0, 0, 0, 1));\n",
       "  --xr-font-color2: var(--jp-content-font-color2, rgba(0, 0, 0, 0.54));\n",
       "  --xr-font-color3: var(--jp-content-font-color3, rgba(0, 0, 0, 0.38));\n",
       "  --xr-border-color: var(--jp-border-color2, #e0e0e0);\n",
       "  --xr-disabled-color: var(--jp-layout-color3, #bdbdbd);\n",
       "  --xr-background-color: var(--jp-layout-color0, white);\n",
       "  --xr-background-color-row-even: var(--jp-layout-color1, white);\n",
       "  --xr-background-color-row-odd: var(--jp-layout-color2, #eeeeee);\n",
       "}\n",
       "\n",
       ".xr-wrap {\n",
       "  min-width: 300px;\n",
       "  max-width: 700px;\n",
       "}\n",
       "\n",
       ".xr-header {\n",
       "  padding-top: 6px;\n",
       "  padding-bottom: 6px;\n",
       "  margin-bottom: 4px;\n",
       "  border-bottom: solid 1px var(--xr-border-color);\n",
       "}\n",
       "\n",
       ".xr-header > div,\n",
       ".xr-header > ul {\n",
       "  display: inline;\n",
       "  margin-top: 0;\n",
       "  margin-bottom: 0;\n",
       "}\n",
       "\n",
       ".xr-obj-type,\n",
       ".xr-array-name {\n",
       "  margin-left: 2px;\n",
       "  margin-right: 10px;\n",
       "}\n",
       "\n",
       ".xr-obj-type {\n",
       "  color: var(--xr-font-color2);\n",
       "}\n",
       "\n",
       ".xr-sections {\n",
       "  padding-left: 0 !important;\n",
       "  display: grid;\n",
       "  grid-template-columns: 150px auto auto 1fr 20px 20px;\n",
       "}\n",
       "\n",
       ".xr-section-item {\n",
       "  display: contents;\n",
       "}\n",
       "\n",
       ".xr-section-item input {\n",
       "  display: none;\n",
       "}\n",
       "\n",
       ".xr-section-item input + label {\n",
       "  color: var(--xr-disabled-color);\n",
       "}\n",
       "\n",
       ".xr-section-item input:enabled + label {\n",
       "  cursor: pointer;\n",
       "  color: var(--xr-font-color2);\n",
       "}\n",
       "\n",
       ".xr-section-item input:enabled + label:hover {\n",
       "  color: var(--xr-font-color0);\n",
       "}\n",
       "\n",
       ".xr-section-summary {\n",
       "  grid-column: 1;\n",
       "  color: var(--xr-font-color2);\n",
       "  font-weight: 500;\n",
       "}\n",
       "\n",
       ".xr-section-summary > span {\n",
       "  display: inline-block;\n",
       "  padding-left: 0.5em;\n",
       "}\n",
       "\n",
       ".xr-section-summary-in:disabled + label {\n",
       "  color: var(--xr-font-color2);\n",
       "}\n",
       "\n",
       ".xr-section-summary-in + label:before {\n",
       "  display: inline-block;\n",
       "  content: '►';\n",
       "  font-size: 11px;\n",
       "  width: 15px;\n",
       "  text-align: center;\n",
       "}\n",
       "\n",
       ".xr-section-summary-in:disabled + label:before {\n",
       "  color: var(--xr-disabled-color);\n",
       "}\n",
       "\n",
       ".xr-section-summary-in:checked + label:before {\n",
       "  content: '▼';\n",
       "}\n",
       "\n",
       ".xr-section-summary-in:checked + label > span {\n",
       "  display: none;\n",
       "}\n",
       "\n",
       ".xr-section-summary,\n",
       ".xr-section-inline-details {\n",
       "  padding-top: 4px;\n",
       "  padding-bottom: 4px;\n",
       "}\n",
       "\n",
       ".xr-section-inline-details {\n",
       "  grid-column: 2 / -1;\n",
       "}\n",
       "\n",
       ".xr-section-details {\n",
       "  display: none;\n",
       "  grid-column: 1 / -1;\n",
       "  margin-bottom: 5px;\n",
       "}\n",
       "\n",
       ".xr-section-summary-in:checked ~ .xr-section-details {\n",
       "  display: contents;\n",
       "}\n",
       "\n",
       ".xr-array-wrap {\n",
       "  grid-column: 1 / -1;\n",
       "  display: grid;\n",
       "  grid-template-columns: 20px auto;\n",
       "}\n",
       "\n",
       ".xr-array-wrap > label {\n",
       "  grid-column: 1;\n",
       "  vertical-align: top;\n",
       "}\n",
       "\n",
       ".xr-preview {\n",
       "  color: var(--xr-font-color3);\n",
       "}\n",
       "\n",
       ".xr-array-preview,\n",
       ".xr-array-data {\n",
       "  padding: 0 5px !important;\n",
       "  grid-column: 2;\n",
       "}\n",
       "\n",
       ".xr-array-data,\n",
       ".xr-array-in:checked ~ .xr-array-preview {\n",
       "  display: none;\n",
       "}\n",
       "\n",
       ".xr-array-in:checked ~ .xr-array-data,\n",
       ".xr-array-preview {\n",
       "  display: inline-block;\n",
       "}\n",
       "\n",
       ".xr-dim-list {\n",
       "  display: inline-block !important;\n",
       "  list-style: none;\n",
       "  padding: 0 !important;\n",
       "  margin: 0;\n",
       "}\n",
       "\n",
       ".xr-dim-list li {\n",
       "  display: inline-block;\n",
       "  padding: 0;\n",
       "  margin: 0;\n",
       "}\n",
       "\n",
       ".xr-dim-list:before {\n",
       "  content: '(';\n",
       "}\n",
       "\n",
       ".xr-dim-list:after {\n",
       "  content: ')';\n",
       "}\n",
       "\n",
       ".xr-dim-list li:not(:last-child):after {\n",
       "  content: ',';\n",
       "  padding-right: 5px;\n",
       "}\n",
       "\n",
       ".xr-has-index {\n",
       "  font-weight: bold;\n",
       "}\n",
       "\n",
       ".xr-var-list,\n",
       ".xr-var-item {\n",
       "  display: contents;\n",
       "}\n",
       "\n",
       ".xr-var-item > div,\n",
       ".xr-var-item label,\n",
       ".xr-var-item > .xr-var-name span {\n",
       "  background-color: var(--xr-background-color-row-even);\n",
       "  margin-bottom: 0;\n",
       "}\n",
       "\n",
       ".xr-var-item > .xr-var-name:hover span {\n",
       "  padding-right: 5px;\n",
       "}\n",
       "\n",
       ".xr-var-list > li:nth-child(odd) > div,\n",
       ".xr-var-list > li:nth-child(odd) > label,\n",
       ".xr-var-list > li:nth-child(odd) > .xr-var-name span {\n",
       "  background-color: var(--xr-background-color-row-odd);\n",
       "}\n",
       "\n",
       ".xr-var-name {\n",
       "  grid-column: 1;\n",
       "}\n",
       "\n",
       ".xr-var-dims {\n",
       "  grid-column: 2;\n",
       "}\n",
       "\n",
       ".xr-var-dtype {\n",
       "  grid-column: 3;\n",
       "  text-align: right;\n",
       "  color: var(--xr-font-color2);\n",
       "}\n",
       "\n",
       ".xr-var-preview {\n",
       "  grid-column: 4;\n",
       "}\n",
       "\n",
       ".xr-var-name,\n",
       ".xr-var-dims,\n",
       ".xr-var-dtype,\n",
       ".xr-preview,\n",
       ".xr-attrs dt {\n",
       "  white-space: nowrap;\n",
       "  overflow: hidden;\n",
       "  text-overflow: ellipsis;\n",
       "  padding-right: 10px;\n",
       "}\n",
       "\n",
       ".xr-var-name:hover,\n",
       ".xr-var-dims:hover,\n",
       ".xr-var-dtype:hover,\n",
       ".xr-attrs dt:hover {\n",
       "  overflow: visible;\n",
       "  width: auto;\n",
       "  z-index: 1;\n",
       "}\n",
       "\n",
       ".xr-var-attrs,\n",
       ".xr-var-data {\n",
       "  display: none;\n",
       "  background-color: var(--xr-background-color) !important;\n",
       "  padding-bottom: 5px !important;\n",
       "}\n",
       "\n",
       ".xr-var-attrs-in:checked ~ .xr-var-attrs,\n",
       ".xr-var-data-in:checked ~ .xr-var-data {\n",
       "  display: block;\n",
       "}\n",
       "\n",
       ".xr-var-data > table {\n",
       "  float: right;\n",
       "}\n",
       "\n",
       ".xr-var-name span,\n",
       ".xr-var-data,\n",
       ".xr-attrs {\n",
       "  padding-left: 25px !important;\n",
       "}\n",
       "\n",
       ".xr-attrs,\n",
       ".xr-var-attrs,\n",
       ".xr-var-data {\n",
       "  grid-column: 1 / -1;\n",
       "}\n",
       "\n",
       "dl.xr-attrs {\n",
       "  padding: 0;\n",
       "  margin: 0;\n",
       "  display: grid;\n",
       "  grid-template-columns: 125px auto;\n",
       "}\n",
       "\n",
       ".xr-attrs dt, dd {\n",
       "  padding: 0;\n",
       "  margin: 0;\n",
       "  float: left;\n",
       "  padding-right: 10px;\n",
       "  width: auto;\n",
       "}\n",
       "\n",
       ".xr-attrs dt {\n",
       "  font-weight: normal;\n",
       "  grid-column: 1;\n",
       "}\n",
       "\n",
       ".xr-attrs dt:hover span {\n",
       "  display: inline-block;\n",
       "  background: var(--xr-background-color);\n",
       "  padding-right: 10px;\n",
       "}\n",
       "\n",
       ".xr-attrs dd {\n",
       "  grid-column: 2;\n",
       "  white-space: pre-wrap;\n",
       "  word-break: break-all;\n",
       "}\n",
       "\n",
       ".xr-icon-database,\n",
       ".xr-icon-file-text2 {\n",
       "  display: inline-block;\n",
       "  vertical-align: middle;\n",
       "  width: 1em;\n",
       "  height: 1.5em !important;\n",
       "  stroke-width: 0;\n",
       "  stroke: currentColor;\n",
       "  fill: currentColor;\n",
       "}\n",
       "</style><div class='xr-wrap'><div class='xr-header'><div class='xr-obj-type'>xarray.Dataset</div></div><ul class='xr-sections'><li class='xr-section-item'><input id='section-7fd07ab8-bbaf-4060-b370-dca1f9203dcd' class='xr-section-summary-in' type='checkbox' disabled ><label for='section-7fd07ab8-bbaf-4060-b370-dca1f9203dcd' class='xr-section-summary'  title='Expand/collapse section'>Dimensions:</label><div class='xr-section-inline-details'><ul class='xr-dim-list'><li><span class='xr-has-index'>xdim</span>: 128</li><li><span class='xr-has-index'>ydim</span>: 128</li><li><span class='xr-has-index'>zdim</span>: 128</li></ul></div><div class='xr-section-details'></div></li><li class='xr-section-item'><input id='section-2b32ceb8-e403-4bd9-82fa-70372402bb2d' class='xr-section-summary-in' type='checkbox'  checked><label for='section-2b32ceb8-e403-4bd9-82fa-70372402bb2d' class='xr-section-summary' >Coordinates: <span>(3)</span></label><div class='xr-section-inline-details'></div><div class='xr-section-details'><ul class='xr-var-list'><li class='xr-var-item'><div class='xr-var-name'><span class='xr-has-index'>xdim</span></div><div class='xr-var-dims'>(xdim)</div><div class='xr-var-dtype'>float32</div><div class='xr-var-preview xr-preview'>-10.0 -9.84252 ... 9.84252 10.0</div><input id='attrs-1c8f0fdb-467b-479b-8edb-2d2f480efba5' class='xr-var-attrs-in' type='checkbox' ><label for='attrs-1c8f0fdb-467b-479b-8edb-2d2f480efba5' title='Show/Hide attributes'><svg class='icon xr-icon-file-text2'><use xlink:href='#icon-file-text2'></use></svg></label><input id='data-a3c7d773-35de-4522-a34f-04b7815eb77a' class='xr-var-data-in' type='checkbox'><label for='data-a3c7d773-35de-4522-a34f-04b7815eb77a' title='Show/Hide data repr'><svg class='icon xr-icon-database'><use xlink:href='#icon-database'></use></svg></label><div class='xr-var-attrs'><dl class='xr-attrs'><dt><span>long_name :</span></dt><dd>x coordinates</dd><dt><span>units :</span></dt><dd>dimensionless space</dd></dl></div><pre class='xr-var-data'>array([-10.      ,  -9.84252 ,  -9.68504 ,  -9.527559,  -9.370079,  -9.212599,\n",
       "        -9.055119,  -8.897638,  -8.740157,  -8.582677,  -8.425197,  -8.267716,\n",
       "        -8.110236,  -7.952756,  -7.795276,  -7.637795,  -7.480315,  -7.322835,\n",
       "        -7.165354,  -7.007874,  -6.850394,  -6.692913,  -6.535433,  -6.377953,\n",
       "        -6.220472,  -6.062992,  -5.905512,  -5.748032,  -5.590551,  -5.433071,\n",
       "        -5.27559 ,  -5.11811 ,  -4.96063 ,  -4.80315 ,  -4.645669,  -4.488189,\n",
       "        -4.330709,  -4.173228,  -4.015748,  -3.858268,  -3.700788,  -3.543307,\n",
       "        -3.385827,  -3.228346,  -3.070866,  -2.913386,  -2.755906,  -2.598425,\n",
       "        -2.440945,  -2.283464,  -2.125984,  -1.968504,  -1.811024,  -1.653543,\n",
       "        -1.496063,  -1.338583,  -1.181103,  -1.023623,  -0.866141,  -0.708661,\n",
       "        -0.551181,  -0.393701,  -0.23622 ,  -0.07874 ,   0.07874 ,   0.23622 ,\n",
       "         0.393701,   0.551181,   0.708661,   0.866141,   1.023623,   1.181103,\n",
       "         1.338583,   1.496063,   1.653543,   1.811024,   1.968504,   2.125984,\n",
       "         2.283464,   2.440945,   2.598425,   2.755905,   2.913385,   3.070867,\n",
       "         3.228347,   3.385827,   3.543307,   3.700788,   3.858268,   4.015748,\n",
       "         4.173228,   4.330709,   4.488189,   4.645669,   4.803149,   4.960629,\n",
       "         5.118111,   5.275591,   5.433071,   5.590551,   5.748032,   5.905512,\n",
       "         6.062992,   6.220472,   6.377953,   6.535433,   6.692913,   6.850393,\n",
       "         7.007874,   7.165354,   7.322834,   7.480314,   7.637794,   7.795275,\n",
       "         7.952755,   8.110237,   8.267717,   8.425198,   8.582678,   8.740158,\n",
       "         8.897638,   9.055119,   9.212599,   9.370079,   9.527559,   9.68504 ,\n",
       "         9.84252 ,  10.      ], dtype=float32)</pre></li><li class='xr-var-item'><div class='xr-var-name'><span class='xr-has-index'>ydim</span></div><div class='xr-var-dims'>(ydim)</div><div class='xr-var-dtype'>float32</div><div class='xr-var-preview xr-preview'>-10.0 -9.84252 ... 9.84252 10.0</div><input id='attrs-0a2e5256-53af-422f-9a06-84533823dc40' class='xr-var-attrs-in' type='checkbox' ><label for='attrs-0a2e5256-53af-422f-9a06-84533823dc40' title='Show/Hide attributes'><svg class='icon xr-icon-file-text2'><use xlink:href='#icon-file-text2'></use></svg></label><input id='data-8556cae6-61af-47b8-8d97-50aba68e92aa' class='xr-var-data-in' type='checkbox'><label for='data-8556cae6-61af-47b8-8d97-50aba68e92aa' title='Show/Hide data repr'><svg class='icon xr-icon-database'><use xlink:href='#icon-database'></use></svg></label><div class='xr-var-attrs'><dl class='xr-attrs'><dt><span>long_name :</span></dt><dd>y coordinates</dd><dt><span>units :</span></dt><dd>dimensionless space</dd></dl></div><pre class='xr-var-data'>array([-10.      ,  -9.84252 ,  -9.68504 ,  -9.527559,  -9.370079,  -9.212599,\n",
       "        -9.055119,  -8.897638,  -8.740157,  -8.582677,  -8.425197,  -8.267716,\n",
       "        -8.110236,  -7.952756,  -7.795276,  -7.637795,  -7.480315,  -7.322835,\n",
       "        -7.165354,  -7.007874,  -6.850394,  -6.692913,  -6.535433,  -6.377953,\n",
       "        -6.220472,  -6.062992,  -5.905512,  -5.748032,  -5.590551,  -5.433071,\n",
       "        -5.27559 ,  -5.11811 ,  -4.96063 ,  -4.80315 ,  -4.645669,  -4.488189,\n",
       "        -4.330709,  -4.173228,  -4.015748,  -3.858268,  -3.700788,  -3.543307,\n",
       "        -3.385827,  -3.228346,  -3.070866,  -2.913386,  -2.755906,  -2.598425,\n",
       "        -2.440945,  -2.283464,  -2.125984,  -1.968504,  -1.811024,  -1.653543,\n",
       "        -1.496063,  -1.338583,  -1.181103,  -1.023623,  -0.866141,  -0.708661,\n",
       "        -0.551181,  -0.393701,  -0.23622 ,  -0.07874 ,   0.07874 ,   0.23622 ,\n",
       "         0.393701,   0.551181,   0.708661,   0.866141,   1.023623,   1.181103,\n",
       "         1.338583,   1.496063,   1.653543,   1.811024,   1.968504,   2.125984,\n",
       "         2.283464,   2.440945,   2.598425,   2.755905,   2.913385,   3.070867,\n",
       "         3.228347,   3.385827,   3.543307,   3.700788,   3.858268,   4.015748,\n",
       "         4.173228,   4.330709,   4.488189,   4.645669,   4.803149,   4.960629,\n",
       "         5.118111,   5.275591,   5.433071,   5.590551,   5.748032,   5.905512,\n",
       "         6.062992,   6.220472,   6.377953,   6.535433,   6.692913,   6.850393,\n",
       "         7.007874,   7.165354,   7.322834,   7.480314,   7.637794,   7.795275,\n",
       "         7.952755,   8.110237,   8.267717,   8.425198,   8.582678,   8.740158,\n",
       "         8.897638,   9.055119,   9.212599,   9.370079,   9.527559,   9.68504 ,\n",
       "         9.84252 ,  10.      ], dtype=float32)</pre></li><li class='xr-var-item'><div class='xr-var-name'><span class='xr-has-index'>zdim</span></div><div class='xr-var-dims'>(zdim)</div><div class='xr-var-dtype'>float32</div><div class='xr-var-preview xr-preview'>-10.0 -9.84252 ... 9.84252 10.0</div><input id='attrs-1bfa0dad-8d68-4e03-869b-07b0adb915b5' class='xr-var-attrs-in' type='checkbox' ><label for='attrs-1bfa0dad-8d68-4e03-869b-07b0adb915b5' title='Show/Hide attributes'><svg class='icon xr-icon-file-text2'><use xlink:href='#icon-file-text2'></use></svg></label><input id='data-65ffd159-00b4-4c83-9298-f551f64d51af' class='xr-var-data-in' type='checkbox'><label for='data-65ffd159-00b4-4c83-9298-f551f64d51af' title='Show/Hide data repr'><svg class='icon xr-icon-database'><use xlink:href='#icon-database'></use></svg></label><div class='xr-var-attrs'><dl class='xr-attrs'><dt><span>long_name :</span></dt><dd>z coordinates</dd><dt><span>units :</span></dt><dd>dimensionless space</dd></dl></div><pre class='xr-var-data'>array([-10.      ,  -9.84252 ,  -9.68504 ,  -9.527559,  -9.370079,  -9.212599,\n",
       "        -9.055119,  -8.897638,  -8.740157,  -8.582677,  -8.425197,  -8.267716,\n",
       "        -8.110236,  -7.952756,  -7.795276,  -7.637795,  -7.480315,  -7.322835,\n",
       "        -7.165354,  -7.007874,  -6.850394,  -6.692913,  -6.535433,  -6.377953,\n",
       "        -6.220472,  -6.062992,  -5.905512,  -5.748032,  -5.590551,  -5.433071,\n",
       "        -5.27559 ,  -5.11811 ,  -4.96063 ,  -4.80315 ,  -4.645669,  -4.488189,\n",
       "        -4.330709,  -4.173228,  -4.015748,  -3.858268,  -3.700788,  -3.543307,\n",
       "        -3.385827,  -3.228346,  -3.070866,  -2.913386,  -2.755906,  -2.598425,\n",
       "        -2.440945,  -2.283464,  -2.125984,  -1.968504,  -1.811024,  -1.653543,\n",
       "        -1.496063,  -1.338583,  -1.181103,  -1.023623,  -0.866141,  -0.708661,\n",
       "        -0.551181,  -0.393701,  -0.23622 ,  -0.07874 ,   0.07874 ,   0.23622 ,\n",
       "         0.393701,   0.551181,   0.708661,   0.866141,   1.023623,   1.181103,\n",
       "         1.338583,   1.496063,   1.653543,   1.811024,   1.968504,   2.125984,\n",
       "         2.283464,   2.440945,   2.598425,   2.755905,   2.913385,   3.070867,\n",
       "         3.228347,   3.385827,   3.543307,   3.700788,   3.858268,   4.015748,\n",
       "         4.173228,   4.330709,   4.488189,   4.645669,   4.803149,   4.960629,\n",
       "         5.118111,   5.275591,   5.433071,   5.590551,   5.748032,   5.905512,\n",
       "         6.062992,   6.220472,   6.377953,   6.535433,   6.692913,   6.850393,\n",
       "         7.007874,   7.165354,   7.322834,   7.480314,   7.637794,   7.795275,\n",
       "         7.952755,   8.110237,   8.267717,   8.425198,   8.582678,   8.740158,\n",
       "         8.897638,   9.055119,   9.212599,   9.370079,   9.527559,   9.68504 ,\n",
       "         9.84252 ,  10.      ], dtype=float32)</pre></li></ul></div></li><li class='xr-section-item'><input id='section-7464d86c-146b-44f5-b2af-a923fc899825' class='xr-section-summary-in' type='checkbox'  checked><label for='section-7464d86c-146b-44f5-b2af-a923fc899825' class='xr-section-summary' >Data variables: <span>(3)</span></label><div class='xr-section-inline-details'></div><div class='xr-section-details'><ul class='xr-var-list'><li class='xr-var-item'><div class='xr-var-name'><span>u</span></div><div class='xr-var-dims'>(zdim, ydim, xdim)</div><div class='xr-var-dtype'>float32</div><div class='xr-var-preview xr-preview'>...</div><input id='attrs-10780634-0e96-461c-ad08-141f8b479880' class='xr-var-attrs-in' type='checkbox' ><label for='attrs-10780634-0e96-461c-ad08-141f8b479880' title='Show/Hide attributes'><svg class='icon xr-icon-file-text2'><use xlink:href='#icon-file-text2'></use></svg></label><input id='data-b4bb5e46-8b7a-4a40-9366-eb74a9e14b93' class='xr-var-data-in' type='checkbox'><label for='data-b4bb5e46-8b7a-4a40-9366-eb74a9e14b93' title='Show/Hide data repr'><svg class='icon xr-icon-database'><use xlink:href='#icon-database'></use></svg></label><div class='xr-var-attrs'><dl class='xr-attrs'><dt><span>long_name :</span></dt><dd>u velocity component</dd><dt><span>units :</span></dt><dd>dimensionless space / dimensionless time</dd></dl></div><pre class='xr-var-data'>[2097152 values with dtype=float32]</pre></li><li class='xr-var-item'><div class='xr-var-name'><span>v</span></div><div class='xr-var-dims'>(zdim, ydim, xdim)</div><div class='xr-var-dtype'>float32</div><div class='xr-var-preview xr-preview'>...</div><input id='attrs-e71d16a3-fd3a-4dfc-8d7c-df4d37fe93d1' class='xr-var-attrs-in' type='checkbox' ><label for='attrs-e71d16a3-fd3a-4dfc-8d7c-df4d37fe93d1' title='Show/Hide attributes'><svg class='icon xr-icon-file-text2'><use xlink:href='#icon-file-text2'></use></svg></label><input id='data-a3d05381-e4d0-45c0-97ca-61ebcf136df5' class='xr-var-data-in' type='checkbox'><label for='data-a3d05381-e4d0-45c0-97ca-61ebcf136df5' title='Show/Hide data repr'><svg class='icon xr-icon-database'><use xlink:href='#icon-database'></use></svg></label><div class='xr-var-attrs'><dl class='xr-attrs'><dt><span>long_name :</span></dt><dd>v velocity component</dd><dt><span>units :</span></dt><dd>dimensionless space / dimensionless time</dd></dl></div><pre class='xr-var-data'>[2097152 values with dtype=float32]</pre></li><li class='xr-var-item'><div class='xr-var-name'><span>w</span></div><div class='xr-var-dims'>(zdim, ydim, xdim)</div><div class='xr-var-dtype'>float32</div><div class='xr-var-preview xr-preview'>...</div><input id='attrs-640c8016-9476-471f-a810-128989a17879' class='xr-var-attrs-in' type='checkbox' ><label for='attrs-640c8016-9476-471f-a810-128989a17879' title='Show/Hide attributes'><svg class='icon xr-icon-file-text2'><use xlink:href='#icon-file-text2'></use></svg></label><input id='data-08b9c136-97bc-44de-9a1f-3ef2c2da7aca' class='xr-var-data-in' type='checkbox'><label for='data-08b9c136-97bc-44de-9a1f-3ef2c2da7aca' title='Show/Hide data repr'><svg class='icon xr-icon-database'><use xlink:href='#icon-database'></use></svg></label><div class='xr-var-attrs'><dl class='xr-attrs'><dt><span>long_name :</span></dt><dd>w velocity component</dd><dt><span>units :</span></dt><dd>dimensionless space / dimensionless time</dd></dl></div><pre class='xr-var-data'>[2097152 values with dtype=float32]</pre></li></ul></div></li><li class='xr-section-item'><input id='section-63fd1fbd-bbd3-43f9-9190-600bb29e02b4' class='xr-section-summary-in' type='checkbox'  checked><label for='section-63fd1fbd-bbd3-43f9-9190-600bb29e02b4' class='xr-section-summary' >Attributes: <span>(2)</span></label><div class='xr-section-inline-details'></div><div class='xr-section-details'><dl class='xr-attrs'><dt><span>creation_date :</span></dt><dd>16-Apr-2019 17:36:10</dd><dt><span>grid :</span></dt><dd>regular</dd></dl></div></li></ul></div></div>"
      ],
      "text/plain": [
       "<xarray.Dataset>\n",
       "Dimensions:  (xdim: 128, ydim: 128, zdim: 128)\n",
       "Coordinates:\n",
       "  * xdim     (xdim) float32 -10.0 -9.84252 -9.6850395 ... 9.6850395 9.84252 10.0\n",
       "  * ydim     (ydim) float32 -10.0 -9.84252 -9.6850395 ... 9.6850395 9.84252 10.0\n",
       "  * zdim     (zdim) float32 -10.0 -9.84252 -9.6850395 ... 9.6850395 9.84252 10.0\n",
       "Data variables:\n",
       "    u        (zdim, ydim, xdim) float32 ...\n",
       "    v        (zdim, ydim, xdim) float32 ...\n",
       "    w        (zdim, ydim, xdim) float32 ...\n",
       "Attributes:\n",
       "    creation_date:  16-Apr-2019 17:36:10\n",
       "    grid:           regular"
      ]
     },
     "execution_count": 59,
     "metadata": {},
     "output_type": "execute_result"
    }
   ],
   "source": [
    "# define config constants\n",
    "file_name = \"tornado3d\"\n",
    "data_path = \"../data/\"\n",
    "extension = \"nc\"\n",
    "\n",
    "# open dataset with Xarray & dump\n",
    "ds = xr.open_dataset(data_path + file_name + '.' + extension)\n",
    "ds"
   ]
  },
  {
   "cell_type": "markdown",
   "metadata": {},
   "source": [
    "## Convert to u,v,w ndarrays, combine into single uvw array, Normalize/Rescale to RGB pixels"
   ]
  },
  {
   "cell_type": "code",
   "execution_count": 60,
   "metadata": {},
   "outputs": [
    {
     "name": "stdout",
     "output_type": "stream",
     "text": [
      "min= -6.2111263 max= 6.2132716\n",
      "WRITTEN: uvw type= <class 'numpy.ndarray'> <class 'numpy.uint8'> shape= (128, 128, 128, 3)  # cells= 6291456 sum= 804248128\n"
     ]
    }
   ],
   "source": [
    "u = np.array(ds.data_vars['u'])\n",
    "v = np.array(ds.data_vars['v'])\n",
    "w = np.array(ds.data_vars['w'])\n",
    "\n",
    "# combine with np.stack making the new dimension the last\n",
    "uvw_raw = np.stack((u, v, w), axis=-1)\n",
    "\n",
    "## Find min-max of u-v-w velocities\n",
    "uvw_min = np.amin(uvw_raw)\n",
    "uvw_max = np.amax(uvw_raw)\n",
    "print('min=', uvw_min, 'max=', uvw_max)\n",
    "\n",
    "## Normalize and scale for RGB color using x_norm = 256*(X-uvw_min)/(uvw_max-uvw_min)\n",
    "uvw = (255 * (uvw_raw / (uvw_max-uvw_min) - (uvw_min/(uvw_max-uvw_min)))).astype(np.uint8)\n",
    "\n",
    "print('WRITTEN: uvw type=', type(uvw), type(uvw[0,0,0,0]), 'shape=', uvw.shape, ' # cells=', np.prod(uvw.shape), 'sum=', uvw.sum())"
   ]
  },
  {
   "cell_type": "markdown",
   "metadata": {},
   "source": [
    "## A) Create ZIP of 2D slices, along with animated GIF of those slices\n",
    "\n",
    "Need Work: ZIP file has extra nested directories before accessing JPG slices"
   ]
  },
  {
   "cell_type": "code",
   "execution_count": null,
   "metadata": {},
   "outputs": [],
   "source": [
    "import os\n",
    "import tempfile\n",
    "\n",
    "path = 'log/'        #os.getcwd()\n",
    "fileName = r'\\JPEG_Slice'\n",
    "\n",
    "# create a temporary directory\n",
    "with tempfile.TemporaryDirectory() as tempPath:\n",
    "    # print('The created temporary directory is %s' % directory)\n",
    "\n",
    "    # slice on the first index. change to second/third index to slice on others 2D\n",
    "    (no_slices,_,_,_) = uvw.shape \n",
    "\n",
    "    # write JPG files to temp directory\n",
    "    for i in range(no_slices):\n",
    "        # create a temp directory under path\n",
    "        rgbFile = tempPath + fileName + '{:04d}.jpg'.format(i)\n",
    "        imageio.imwrite(rgbFile, uvw[i,:,:,:])   # note imwrite interprets last dim as 3 bytes for RGB24\n",
    "        \n",
    "    fileList = sorted(glob.glob(tempPath + fileName + '*.jpg'))\n",
    "\n",
    "    # create the ZIP archive \n",
    "    with ZipFile(path + fileName + 's.ZIP', 'w') as zipObj:\n",
    "        # Iterate over all the files in directory\n",
    "        for file in fileList:\n",
    "            # Add file to zip\n",
    "            zipObj.write(file)\n",
    "\n",
    "    # create animated GIF of JPG images\n",
    "    with imageio.get_writer(path + fileName + 's.GIF', mode='I') as writer:\n",
    "        for file in fileList:\n",
    "            image = imageio.imread(file)\n",
    "            writer.append_data(image)\n",
    "\n",
    "        image = imageio.imread(file)\n",
    "        writer.append_data(image)\n"
   ]
  },
  {
   "cell_type": "markdown",
   "metadata": {},
   "source": [
    "## B. Create simple JSON file with single big list"
   ]
  },
  {
   "cell_type": "code",
   "execution_count": 88,
   "metadata": {},
   "outputs": [
    {
     "name": "stdout",
     "output_type": "stream",
     "text": [
      "SENT: uvw type= <class 'numpy.ndarray'> <class 'numpy.uint8'> shape= (128, 128, 128, 3)  # cells= 6291456 sum= 804248128\n"
     ]
    }
   ],
   "source": [
    "ext = \".JSON2\"\n",
    "file_path = \"log/uvw_test1\" + ext\n",
    "\n",
    "# Write file as single big list\n",
    "uvw_str = json.dumps(uvw.tolist())\n",
    "json.dump(uvw_str, codecs.open(file_path, 'w', encoding='utf-8'), separators=(',',':'), sort_keys=True, indent=4)\n",
    "\n",
    "print('SENT: uvw type=', type(uvw), type(uvw[0,0,0,0]), 'shape=', uvw.shape, ' # cells=', np.prod(uvw.shape), 'sum=', uvw.sum())"
   ]
  },
  {
   "cell_type": "code",
   "execution_count": 56,
   "metadata": {},
   "outputs": [
    {
     "name": "stdout",
     "output_type": "stream",
     "text": [
      "LOADED: uvw type= <class 'numpy.ndarray'> <class 'numpy.uint8'> shape= (4, 4, 4, 3)  # cells= 192 sum= 24833\n"
     ]
    }
   ],
   "source": [
    "######################## test file\n",
    "import ast\n",
    "\n",
    "# Read file back and Reconstruct UVW array\n",
    "file_text = codecs.open(file_path, 'r', encoding='utf-8').read()\n",
    "uvw_list = ast.literal_eval(json.loads(file_text))\n",
    "#print(type(uvw_list))\n",
    "uvw2 = np.array(uvw_list)\n",
    "\n",
    "print('LOADED: uvw type=', type(uvw), type(uvw[0,0,0,0]), 'shape=', uvw.shape, ' # cells=', np.prod(uvw.shape), 'sum=', uvw.sum())"
   ]
  },
  {
   "cell_type": "markdown",
   "metadata": {},
   "source": [
    "## C. Create CSV file with i,j,k plus (u,v,w) pixel\n",
    "\n",
    "NOTE: very inefficient => IGNORE"
   ]
  },
  {
   "cell_type": "code",
   "execution_count": 63,
   "metadata": {},
   "outputs": [
    {
     "name": "stdout",
     "output_type": "stream",
     "text": [
      "[0, 0, 0, 154, 46, 203]\n",
      "[0, 0, 1, 105, 38, 217]\n",
      "[0, 1, 0, 200, 236, 77]\n",
      "[0, 1, 1, 204, 240, 158]\n",
      "[1, 0, 0, 251, 195, 171]\n",
      "[1, 0, 1, 88, 221, 0]\n",
      "[1, 1, 0, 203, 218, 239]\n",
      "[1, 1, 1, 79, 179, 47]\n"
     ]
    }
   ],
   "source": [
    "import csv\n",
    "ext = \".CSV\"\n",
    "file_path = \"log/uvw_test1\" + ext\n",
    "\n",
    "with open(file_path, \"w\", newline=\"\") as f:\n",
    "    writer = csv.writer(f)\n",
    "    writer.writerow(['x', 'y', 'z', 'u', 'v', 'w'])\n",
    "    \n",
    "    for i in range(uvw.shape[0]):\n",
    "        for j in range(uvw.shape[1]):\n",
    "            for k in range(uvw.shape[2]):\n",
    "                line = [i, j, k, uvw[i,j,k,0], uvw[i,j,k,1], uvw[i,j,k,2]]\n",
    "                print(line)\n",
    "                writer.writerow(line)\n",
    "    f.close()"
   ]
  },
  {
   "cell_type": "markdown",
   "metadata": {},
   "source": [
    "## D. Create text file with first line as shape, following by lines for each 3-int8 pixel"
   ]
  },
  {
   "cell_type": "code",
   "execution_count": 23,
   "metadata": {},
   "outputs": [
    {
     "name": "stdout",
     "output_type": "stream",
     "text": [
      "SENT: uvw type= <class 'numpy.ndarray'> <class 'numpy.uint8'> shape= (16, 16, 16, 3)  # cells= 12288 sum= 1568256\n"
     ]
    }
   ],
   "source": [
    "import json\n",
    "\n",
    "# configuration\n",
    "file_name = 'uvw_test16'\n",
    "ext = \".uvw\"\n",
    "file_path = '../server/data/' + file_name + ext\n",
    "sep = \",\"\n",
    "eol = '\\n'\n",
    "\n",
    "with open(file_path, \"w\") as f:\n",
    "    meta_line = {'name': file_name, 'shape': uvw.shape}  # first row is UVW shape dimensions\n",
    "    f.write(json.dumps(meta_line) + eol)\n",
    "    \n",
    "    for i in range(uvw.shape[0]):\n",
    "        for j in range(uvw.shape[1]):\n",
    "            for k in range(uvw.shape[2]):\n",
    "                line = str(uvw[i,j,k,0]) +sep+ str(uvw[i,j,k,1]) +sep+ str(uvw[i,j,k,2]) + eol\n",
    "                f.write(line)\n",
    "    f.close()\n",
    "    \n",
    "print('SENT: uvw type=', type(uvw), type(uvw[0,0,0,0]), 'shape=', uvw.shape, ' # cells=', np.prod(uvw.shape), 'sum=', uvw.sum())"
   ]
  },
  {
   "cell_type": "code",
   "execution_count": 17,
   "metadata": {},
   "outputs": [
    {
     "name": "stdout",
     "output_type": "stream",
     "text": [
      "SENT: uvw type= <class 'numpy.ndarray'> <class 'numpy.uint8'> shape= (16, 16, 16, 3)  # cells= 12288 sum= 1573280\n"
     ]
    }
   ],
   "source": [
    "################# test file\n",
    "\n",
    "with open(file_path, \"r\") as f:\n",
    "    meta_dict = json.loads(f.readline())        # first row is UVW shape dimensions\n",
    "    shape = meta_dict['shape']\n",
    "    uvw2 = np.ones(shape).astype(np.uint8)\n",
    "    \n",
    "    for i in range(shape[0]):\n",
    "        for j in range(shape[1]):\n",
    "            for k in range(shape[2]):\n",
    "                line = f.readline()\n",
    "                uvw2[i, j, k, :] = tuple(map(int, line.split(sep)))\n",
    "    f.close()\n",
    "    \n",
    "print('SENT: uvw type=', type(uvw2), type(uvw2[0,0,0,0]), 'shape=', uvw2.shape, ' # cells=', np.prod(uvw2.shape), 'sum=', uvw2.sum())"
   ]
  },
  {
   "cell_type": "markdown",
   "metadata": {},
   "source": [
    "## E. Create binary file with 3-byte binary tuples\n",
    "\n",
    "First 3-byte tuple contains the three sizes for UVW 3D shape, followed by 3-byte tuples for each RGB24 pixel.\n",
    "\n",
    "**Note** that the three bytes for shape currently allow for only zero to 255 as shape values."
   ]
  },
  {
   "cell_type": "code",
   "execution_count": 61,
   "metadata": {},
   "outputs": [
    {
     "name": "stdout",
     "output_type": "stream",
     "text": [
      "SENT: uvw type= <class 'numpy.ndarray'> <class 'numpy.uint8'> shape= (128, 128, 128, 3)  # cells= 6291456 sum= 804248128\n"
     ]
    }
   ],
   "source": [
    "import json\n",
    "\n",
    "# configuration\n",
    "file_name = 'tornado3d'\n",
    "ext = \".uvw\"\n",
    "file_path = '../server/data/' + file_name + ext\n",
    "sep = \",\"\n",
    "eol = '\\n'\n",
    "\n",
    "with open(file_path, \"wb\") as f:\n",
    "    shape_bytes = np.array(uvw.shape)[:3].astype(np.int8).tobytes()\n",
    "    f.write(shape_bytes)\n",
    "    \n",
    "    uvw_bytes = uvw.flatten().tobytes()\n",
    "    f.write(uvw_bytes)\n",
    "    \n",
    "print('SENT: uvw type=', type(uvw), type(uvw[0,0,0,0]), 'shape=', uvw.shape, ' # cells=', np.prod(uvw.shape), 'sum=', uvw.sum())"
   ]
  },
  {
   "cell_type": "code",
   "execution_count": 62,
   "metadata": {},
   "outputs": [
    {
     "name": "stdout",
     "output_type": "stream",
     "text": [
      "(128, 128, 128, 3)\n",
      "RECEIVED: uvw type= <class 'numpy.ndarray'> <class 'numpy.uint8'> shape= (128, 128, 128, 3)  # cells= 6291456 sum= 804248128\n"
     ]
    }
   ],
   "source": [
    "################# test loading file\n",
    "\n",
    "with open(file_path, \"rb\") as f:\n",
    "    b = f.read(3)\n",
    "    shape = tuple([b[0], b[1], b[2], 3])\n",
    "    print(shape)\n",
    "    uvw2 = np.zeros(shape).astype(np.uint8)\n",
    "    \n",
    "    for i in range(shape[0]):\n",
    "        for j in range(shape[1]):\n",
    "            for k in range(shape[2]):\n",
    "                for l in range(3):\n",
    "                    uvw2[i, j, k, l] = int.from_bytes(f.read(1), byteorder='big')\n",
    "                    if uvw2[i, j, k, l] != uvw[i, j, k, l]:\n",
    "                        print(uvw2[i, j, k, l], uvw[i, j, k, l])\n",
    "    \n",
    "print('RECEIVED: uvw type=', type(uvw2), type(uvw2[0,0,0,0]), 'shape=', uvw2.shape, ' # cells=', np.prod(uvw2.shape), 'sum=', uvw2.sum())"
   ]
  },
  {
   "cell_type": "code",
   "execution_count": 76,
   "metadata": {},
   "outputs": [
    {
     "name": "stdout",
     "output_type": "stream",
     "text": [
      "128128128 (128, 128, 128, 3)\n"
     ]
    }
   ],
   "source": [
    "import json\n",
    "# configuration\n",
    "file_name = 'tornado3d'\n",
    "ext = \".uvw\"\n",
    "file_path = '../server/data/' + file_name + ext\n",
    "\n",
    "with open(file_path, \"rb\") as f:\n",
    "    b = f.read(3)\n",
    "    s0 = str(b[0]); s1 = str(b[1]); s2 = str(b[2])\n",
    "    #shape = json.loads(tuple([b[0], b[1], b[2], 3]))\n",
    "    print((s0+s1+s2), shape)"
   ]
  },
  {
   "cell_type": "code",
   "execution_count": 68,
   "metadata": {},
   "outputs": [
    {
     "name": "stdout",
     "output_type": "stream",
     "text": [
      "b'}' b'}'\n",
      "b'W' b'W'\n",
      "b'\\x7f' b'\\x7f'\n",
      "b'~' b'~'\n",
      "b'W' b'W'\n",
      "b'\\x7f' b'\\x7f'\n",
      "b'\\x7f' b'\\x7f'\n",
      "b'W' b'W'\n",
      "b'\\x7f' b'\\x7f'\n",
      "b'\\x7f' b'\\x7f'\n",
      "b'V' b'V'\n",
      "b'\\x7f' b'\\x7f'\n",
      "b'\\x80' b'\\x80'\n",
      "b'V' b'V'\n",
      "b'\\x7f' b'\\x7f'\n",
      "b'\\x81' b'\\x81'\n"
     ]
    }
   ],
   "source": [
    "############## Compare Eric flatten binary with UVWb binary\n",
    "\n",
    "with open(file_path, \"rb\") as f1:\n",
    "    f1.read(3)  # strip initial 3 bytes (with the shape)\n",
    "    with open('../server/data/' + 'flattened.txt', \"rb\") as f2:\n",
    "        for i in range(16):\n",
    "            print(f1.read(1), f2.read(1))"
   ]
  },
  {
   "cell_type": "markdown",
   "metadata": {},
   "source": [
    "## E. Create HDF5 file (to be completed)\n",
    "\n",
    "Derived from https://www.pythonforthelab.com/blog/how-to-use-hdf5-files-in-python/"
   ]
  },
  {
   "cell_type": "code",
   "execution_count": null,
   "metadata": {},
   "outputs": [],
   "source": [
    "import h5py\n",
    "\n"
   ]
  },
  {
   "cell_type": "markdown",
   "metadata": {},
   "source": [
    "## FOR LATER... Pieces from Eric, packing hex bytes into RGB "
   ]
  },
  {
   "cell_type": "code",
   "execution_count": null,
   "metadata": {},
   "outputs": [],
   "source": [
    "from eric May 6\n",
    "\n",
    "uvw_norm = (255 * (uvw / (uvw_max-uvw_min) - (uvw_min/(uvw_max-uvw_min))))uvw.shape.flatten().tobytes()\n",
    "\n",
    "flattened = uvw_norm.flatten().tobytes()\n",
    "newFile = open(\"../data/flattened.txt\", \"wb\")\n",
    "newFile.write(flattened)\n",
    "newFile.close()"
   ]
  },
  {
   "cell_type": "code",
   "execution_count": 56,
   "metadata": {},
   "outputs": [
    {
     "name": "stdout",
     "output_type": "stream",
     "text": [
      "[125  87 127]\n"
     ]
    },
    {
     "data": {
      "text/plain": [
       "8214399"
      ]
     },
     "execution_count": 56,
     "metadata": {},
     "output_type": "execute_result"
    }
   ],
   "source": [
    "# Method B - packing bytes in hex\n",
    "import struct\n",
    "\n",
    "rgb = uvw_norm[1,1,1,:]\n",
    "print(rgb)\n",
    "rgb_hex = bytes.hex(struct.pack('BBB',*rgb))\n",
    "int(rgb_hex, 16)"
   ]
  },
  {
   "cell_type": "markdown",
   "metadata": {},
   "source": [
    "## FOR LATER... Define function to list all files in directory with a specific extension"
   ]
  },
  {
   "cell_type": "code",
   "execution_count": 24,
   "metadata": {},
   "outputs": [
    {
     "name": "stdout",
     "output_type": "stream",
     "text": [
      "tornado3d.nc\n",
      "tornado3d.nc created 16-Apr-2019 17:36:10\n"
     ]
    }
   ],
   "source": [
    "\n",
    "\n",
    "def list_files(directory, extension):\n",
    "    return (f for f in listdir(directory) if f.endswith('.' + extension))\n",
    "\n",
    "# List each nc file with its creation data and variables\n",
    "for f in list_files(data_path, netCDF_extension):\n",
    "    print(f)\n",
    "    nc = Dataset(data_path + f, \"r\")\n",
    "    nc_dict = nc.__dict__\n",
    "    cdate = nc_dict['creation_date']\n",
    "    vars = \n",
    "    print(f\"{f} created {cdate} with variables {vars}\")\n"
   ]
  },
  {
   "cell_type": "markdown",
   "metadata": {},
   "source": [
    "## FOR LATER... Downloading and unzipping a web Zip file without writing to disk"
   ]
  },
  {
   "cell_type": "code",
   "execution_count": null,
   "metadata": {},
   "outputs": [],
   "source": [
    "################## for possible future use \n",
    "\n",
    "# Downloading and unzipping a web Zip file without writing to disk\n",
    "# from https://stackoverflow.com/questions/5710867/downloading-and-unzipping-a-zip-file-without-writing-to-disk\n",
    "\n",
    "# from Zudo on 20170208  \n",
    "from io import BytesIO\n",
    "from zipfile import ZipFile\n",
    "import urllib.request\n",
    "\n",
    "    url = urllib.request.urlopen(\"http://www.unece.org/fileadmin/DAM/cefact/locode/loc162txt.zip\")\n",
    "\n",
    "    with ZipFile(BytesIO(url.read())) as my_zip_file:\n",
    "        for contained_file in my_zip_file.namelist():\n",
    "            # with open((\"unzipped_and_read_\" + contained_file + \".file\"), \"wb\") as output:\n",
    "            for line in my_zip_file.open(contained_file).readlines():\n",
    "                print(line)\n",
    "                # output.write(line)\n",
    "\n",
    "# from lababidi on 20160118 to handle multiple files in Zip\n",
    "from io import BytesIO\n",
    "from zipfile import ZipFile\n",
    "import requests\n",
    "\n",
    "def get_zip(file_url):\n",
    "    url = requests.get(file_url)\n",
    "    zipfile = ZipFile(BytesIO(url.content))\n",
    "    zip_names = zipfile.namelist()\n",
    "    if len(zip_names) == 1:\n",
    "        file_name = zip_names.pop()\n",
    "        extracted_file = zipfile.open(file_name)\n",
    "        return extracted_file\n",
    "    return [zipfile.open(file_name) for file_name in zip_names]\n"
   ]
  }
 ],
 "metadata": {
  "kernelspec": {
   "display_name": "Python 3",
   "language": "python",
   "name": "python3"
  },
  "language_info": {
   "codemirror_mode": {
    "name": "ipython",
    "version": 3
   },
   "file_extension": ".py",
   "mimetype": "text/x-python",
   "name": "python",
   "nbconvert_exporter": "python",
   "pygments_lexer": "ipython3",
   "version": "3.7.7"
  }
 },
 "nbformat": 4,
 "nbformat_minor": 4
}
